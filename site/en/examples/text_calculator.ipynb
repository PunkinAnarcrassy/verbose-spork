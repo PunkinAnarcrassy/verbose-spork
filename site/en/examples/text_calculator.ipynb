{
  "cells": [
    {
      "cell_type": "markdown",
      "metadata": {
        "id": "Tce3stUlHN0L"
      },
      "source": [
        "##### Copyright 2023 Google LLC."
      ]
    },
    {
      "cell_type": "code",
      "execution_count": 1,
      "metadata": {
        "cellView": "form",
        "id": "tuOe1ymfHZPu"
      },
      "outputs": [],
      "source": [
        "#@title Licensed under the Apache License, Version 2.0 (the \"License\");\n",
        "# you may not use this file except in compliance with the License.\n",
        "# You may obtain a copy of the License at\n",
        "#\n",
        "# https://www.apache.org/licenses/LICENSE-2.0\n",
        "#\n",
        "# Unless required by applicable law or agreed to in writing, software\n",
        "# distributed under the License is distributed on an \"AS IS\" BASIS,\n",
        "# WITHOUT WARRANTIES OR CONDITIONS OF ANY KIND, either express or implied.\n",
        "# See the License for the specific language governing permissions and\n",
        "# limitations under the License."
      ]
    },
    {
      "cell_type": "markdown",
      "metadata": {
        "id": "FS9T8jTqkZWI"
      },
      "source": [
        "# Use external tools with generate_text"
      ]
    },
    {
      "cell_type": "markdown",
      "metadata": {
        "id": "f03e6e380116"
      },
      "source": [
        "<table class=\"tfo-notebook-buttons\" align=\"left\">\n",
        "  <td>\n",
        "    <a target=\"_blank\" href=\"https://developers.generativeai.google/examples/text_calculator\"><img src=\"https://developers.generativeai.google/static/site-assets/images/docs/notebook-site-button.png\" height=\"32\" width=\"32\" />View on Generative AI</a>\n",
        "  </td>\n",
        "  <td>\n",
        "    <a target=\"_blank\" href=\"https://colab.research.google.com/github/google/generative-ai-docs/blob/main/site/en/examples/text_calculator.ipynb\"><img src=\"https://www.tensorflow.org/images/colab_logo_32px.png\" />Run in Google Colab</a>\n",
        "  </td>\n",
        "  <td>\n",
        "    <a target=\"_blank\" href=\"https://github.com/google/generative-ai-docs/blob/main/site/en/examples/text_calculator.ipynb\"><img src=\"https://www.tensorflow.org/images/GitHub-Mark-32px.png\" />View source on GitHub</a>\n",
        "  </td>\n",
        "</table>"
      ]
    },
    {
      "cell_type": "markdown",
      "metadata": {
        "id": "D64fjiFDke_P"
      },
      "source": [
        "This tutorial shows an exape of using an external tool with the `palm.generate_text` function. The overal plan is:\n",
        "\n",
        "1. Describe a `start` and `end` tag it can use to call the tool.\n",
        "2. Include the `end` tag in the of `stop_sequences` passed to `generate_text`.\n",
        "3. Take the text between the `start` and `end` tags as input to the tool.\n",
        "4. Run the tool and add it's output to the prompt.\n",
        "5. Call `generate_text` again, to have the model continue with the tool's output.\n"
      ]
    },
    {
      "cell_type": "markdown",
      "metadata": {
        "id": "MRbP4BER4_L9"
      },
      "source": [
        "## Setup"
      ]
    },
    {
      "cell_type": "code",
      "execution_count": 1,
      "metadata": {
        "id": "oq3EYtJYBXpG"
      },
      "outputs": [
        {
          "name": "stdout",
          "output_type": "stream",
          "text": [
            "\u001b[2K     \u001b[90m━━━━━━━━━━━━━━━━━━━━━━━━━━━━━━━━━━━━━━━\u001b[0m \u001b[32m121.5/121.5 kB\u001b[0m \u001b[31m3.4 MB/s\u001b[0m eta \u001b[36m0:00:00\u001b[0m\n",
            "\u001b[2K     \u001b[90m━━━━━━━━━━━━━━━━━━━━━━━━━━━━━━━━━━━━━━━\u001b[0m \u001b[32m113.3/113.3 kB\u001b[0m \u001b[31m6.0 MB/s\u001b[0m eta \u001b[36m0:00:00\u001b[0m\n",
            "\u001b[?25h"
          ]
        }
      ],
      "source": [
        "!pip install -q google.generativeai"
      ]
    },
    {
      "cell_type": "code",
      "execution_count": 7,
      "metadata": {
        "id": "h2rFkzdEKHtW"
      },
      "outputs": [],
      "source": [
        "import google.generativeai as palm\n",
        "palm.configure(api_key='YOUR API KEY')\n",
        "\n",
        "from google.api_core import retry\n",
        "\n",
        "@retry.Retry()\n",
        "def generate_text(*args, **kwargs):\n",
        "  return palm.generate_text(*args, **kwargs)\n"
      ]
    },
    {
      "cell_type": "code",
      "execution_count": 8,
      "metadata": {
        "id": "PL3XpOnN7Yox"
      },
      "outputs": [],
      "source": [
        "model=\"models/text-bison-001\""
      ]
    },
    {
      "cell_type": "markdown",
      "metadata": {
        "id": "zhZJMqsI7K61"
      },
      "source": [
        "## Try to solve the problem directly"
      ]
    },
    {
      "cell_type": "markdown",
      "metadata": {
        "id": "MhjnsEM67Hsh"
      },
      "source": [
        "Here's the word problem you're going to solve:"
      ]
    },
    {
      "cell_type": "code",
      "execution_count": 9,
      "metadata": {
        "id": "1TIekNZ1rrOd"
      },
      "outputs": [],
      "source": [
        "question = \"\"\"\n",
        "I have 77 houses, each with 31 cats.\n",
        "Each cat owns 14 mittens, and 6 hats.\n",
        "Each mitten was knit from 141m of yarn, each hat from 55m.\n",
        "How much yarn was needed to make all the items?\n",
        "\"\"\""
      ]
    },
    {
      "cell_type": "code",
      "execution_count": 16,
      "metadata": {
        "id": "OXRjf_hAEV1C"
      },
      "outputs": [],
      "source": [
        "prompt_template = \"\"\"\n",
        "You are an expert at solving word probles. Here's one:\n",
        "\n",
        "{question}\n",
        "\n",
        "Work throught it step by step, and show your work.\n",
        "One step per line.\n",
        "\n",
        "Your solution:\n",
        "\"\"\""
      ]
    },
    {
      "cell_type": "markdown",
      "metadata": {
        "id": "hTJIpg-D7w-3"
      },
      "source": [
        "Try it as is:"
      ]
    },
    {
      "cell_type": "code",
      "execution_count": 17,
      "metadata": {
        "id": "IRoDEoU1Bq_6"
      },
      "outputs": [
        {
          "name": "stdout",
          "output_type": "stream",
          "text": [
            "In the houses there are 77 * 31 = 2387 cats.\n",
            "So they need 2387 * 14 = 33418 mittens.\n",
            "And they need 2387 * 6 = 14322 hats.\n",
            "In total they need 33418 * 141 + 14322 * 55 = 5554525m of yarn.\n",
            "The answer: 5554525.\n"
          ]
        }
      ],
      "source": [
        "completion = generate_text(\n",
        "    model=model,\n",
        "    prompt=prompt_template.format(question=question),\n",
        "    # The maximum length of the response\n",
        "    max_output_tokens=800,\n",
        ")\n",
        "\n",
        "print(completion.result)"
      ]
    },
    {
      "cell_type": "markdown",
      "metadata": {
        "id": "zG4bukqCIQ4f"
      },
      "source": [
        "Just like that, it's usually incorrect.\n",
        "It generally gets the steps right but the arithmetic wrong.\n",
        "\n",
        "The answer should be:"
      ]
    },
    {
      "cell_type": "code",
      "execution_count": 26,
      "metadata": {
        "id": "9Jw0L9OoCAHZ"
      },
      "outputs": [
        {
          "data": {
            "text/plain": [
              "5499648"
            ]
          },
          "execution_count": 26,
          "metadata": {},
          "output_type": "execute_result"
        }
      ],
      "source": [
        "answer = 77*31*14*141 + 77*31*6*55\n",
        "answer"
      ]
    },
    {
      "cell_type": "markdown",
      "metadata": {
        "id": "IAdE14kV7y0E"
      },
      "source": [
        "## Tell the model to use a calculator"
      ]
    },
    {
      "cell_type": "markdown",
      "metadata": {
        "id": "91LETezvs6LU"
      },
      "source": [
        "So give the model access to a calculator. You can do that by adding something like this to the prompt:"
      ]
    },
    {
      "cell_type": "code",
      "execution_count": 19,
      "metadata": {
        "id": "kjrZYUE7N5N6"
      },
      "outputs": [],
      "source": [
        "calc_prompt_template = \"\"\"\n",
        "You are an expert at solving word probles. Here's a question:\n",
        "\n",
        "{question}\n",
        "\n",
        "-------------------\n",
        "\n",
        "When solving this problem, use the calculator for any arithmetic.\n",
        "\n",
        "To use the calculator, put an expression between <calc></calc> tags.\n",
        "The answer will be printed after the </calc> tag.\n",
        "\n",
        "For example: 2 houses  * 8 cats/house = <calc>2 * 8</calc> = 16 cats\n",
        "\n",
        "-------------------\n",
        "\n",
        "Work throught it step by step, and show your work.\n",
        "One step per line.\n",
        "\n",
        "Your solution:\n",
        "\"\"\"\n",
        "\n",
        "calc_prompt = calc_prompt_template.format(question=question)"
      ]
    },
    {
      "cell_type": "markdown",
      "metadata": {
        "id": "o2PhgztglJGv"
      },
      "source": [
        "To give the model access to the output of this \"calculator\", you'll have to pause generation and insert the result. Use the `stop_sequences` argument to stop at the `</calc>` tag:"
      ]
    },
    {
      "cell_type": "code",
      "execution_count": 20,
      "metadata": {
        "id": "7IPLT3yYk07Y"
      },
      "outputs": [
        {
          "name": "stdout",
          "output_type": "stream",
          "text": [
            "In each house, there are <calc>31 * 14\n"
          ]
        }
      ],
      "source": [
        "completion = generate_text(\n",
        "    model=model,\n",
        "    prompt=calc_prompt,\n",
        "    stop_sequences=[\"</calc>\"],\n",
        "    # The maximum length of the response\n",
        "    max_output_tokens=800,\n",
        "    candidate_count=1,\n",
        ")\n",
        "\n",
        "result = completion.result\n",
        "print(result)"
      ]
    },
    {
      "cell_type": "markdown",
      "metadata": {
        "id": "9Ooyb6VOmdIf"
      },
      "source": [
        "The `stop_sequence` is not included in the result. Split off the experssion and run it through the calculator, and add it back to the result:"
      ]
    },
    {
      "cell_type": "code",
      "execution_count": 21,
      "metadata": {
        "id": "K9Y0Z-Lome0P"
      },
      "outputs": [],
      "source": [
        "# Use re to clear units from the calculator expressions\n",
        "import re\n",
        "# Use numexpr since `eval` is unsafe.\n",
        "import numexpr\n",
        "\n",
        "\n",
        "def calculator(result):\n",
        "  result, experssion = result.rsplit('<calc>', 1)\n",
        "\n",
        "  # Strip any units like \"cats / house\"\n",
        "  clean_experssion = re.sub(\"[a-zA-Z]([ /a-zA-Z]*[a-zA-Z])?\",'', experssion)\n",
        "\n",
        "  # `eval` is unsafe use numexpr\n",
        "  result = f\"{result}<calc>{experssion}</calc> = {str(numexpr.evaluate(clean_experssion))}\"\n",
        "  return result"
      ]
    },
    {
      "cell_type": "code",
      "execution_count": 22,
      "metadata": {
        "id": "bSAkZY3B2l9T"
      },
      "outputs": [
        {
          "name": "stdout",
          "output_type": "stream",
          "text": [
            "In each house, there are <calc>31 * 14</calc> = 434\n"
          ]
        }
      ],
      "source": [
        "print(calculator(result))"
      ]
    },
    {
      "cell_type": "markdown",
      "metadata": {
        "id": "BSwjboF3pz8E"
      },
      "source": [
        "Now append that to the prompt, and run the model again, so it can continue where it left off:"
      ]
    },
    {
      "cell_type": "code",
      "execution_count": 23,
      "metadata": {
        "id": "p1Q1rQ1E0XSB"
      },
      "outputs": [
        {
          "name": "stdout",
          "output_type": "stream",
          "text": [
            "mittens.\n",
            "In each house, there are <calc>31 * 6\n"
          ]
        }
      ],
      "source": [
        "continue_prompt=calc_prompt +\"\\n\"+ \"-\"*80 + \"\\n\" + calculator(result)\n",
        "\n",
        "completion = generate_text(\n",
        "    model=model,\n",
        "    prompt=continue_prompt,\n",
        "    stop_sequences=[\"</calc>\"],\n",
        "    # The maximum length of the response\n",
        "    max_output_tokens=800,\n",
        "    candidate_count=1,\n",
        ")\n",
        "\n",
        "print(completion.result)"
      ]
    },
    {
      "cell_type": "markdown",
      "metadata": {
        "id": "l-AY4lKu2JB9"
      },
      "source": [
        "That basically works. So run it in a loop to solve the problem:"
      ]
    },
    {
      "cell_type": "code",
      "execution_count": 27,
      "metadata": {
        "id": "TyIGLC4D1fF1"
      },
      "outputs": [],
      "source": [
        "def solve(question=question):\n",
        "  results = []\n",
        "\n",
        "  for n in range(10):\n",
        "    prompt = calc_prompt_template.format(question=question)\n",
        "\n",
        "    prompt += \" \".join(results)\n",
        "\n",
        "    completion = generate_text(\n",
        "        model=model,\n",
        "        prompt=prompt,\n",
        "        stop_sequences=[\"</calc>\"],\n",
        "        # The maximum length of the response\n",
        "        max_output_tokens=800,\n",
        "    )\n",
        "\n",
        "    result = completion.result\n",
        "    if '<calc>' in result:\n",
        "      result = calculator(result)\n",
        "\n",
        "    results.append(result)\n",
        "    print('-'*40)\n",
        "    print(result)\n",
        "    if str(answer) in result:\n",
        "      break\n",
        "    if \"<calc>\" not in  result:\n",
        "      break\n",
        "\n",
        "  is_good = any(str(answer) in r for r in results)\n",
        "\n",
        "  print(\"*\"*100)\n",
        "  if is_good:\n",
        "    print(\"Success!\")\n",
        "  else:\n",
        "    print(\"Failure!\")\n",
        "  print(\"*\"*100)\n",
        "\n",
        "  return is_good"
      ]
    },
    {
      "cell_type": "code",
      "execution_count": 28,
      "metadata": {
        "id": "SBhW2JjF2WbJ"
      },
      "outputs": [
        {
          "name": "stdout",
          "output_type": "stream",
          "text": [
            "----------------------------------------\n",
            "The total number of cats is <calc>77 * 31</calc> = 2387\n",
            "----------------------------------------\n",
            "cats.\n",
            "The total number of mittens is <calc>2387 * 14</calc> = 33418\n",
            "----------------------------------------\n",
            "mittens.\n",
            "The total amount of yarn needed for the mittens is <calc>33418 * 141</calc> = 4711938\n",
            "----------------------------------------\n",
            "m.\n",
            "The total number of hats is <calc>2387 * 6</calc> = 14322\n",
            "----------------------------------------\n",
            "hats.\n",
            " The total amount of yarn needed for the hats is <calc>14322 * 55</calc> = 787710\n",
            "----------------------------------------\n",
            "m.\n",
            "In total, <calc>4711938 + 787710</calc> = 5499648\n",
            "********************************************************************************\n",
            "Success!\n"
          ]
        }
      ],
      "source": [
        "solve(question);"
      ]
    },
    {
      "cell_type": "markdown",
      "metadata": {
        "id": "b13884c9baeb"
      },
      "source": [
        "Run that a few times to estimate the solve rate:"
      ]
    },
    {
      "cell_type": "code",
      "execution_count": 29,
      "metadata": {
        "id": "k5xyLTZbMjuF"
      },
      "outputs": [
        {
          "name": "stdout",
          "output_type": "stream",
          "text": [
            "----------------------------------------\n",
            "There are <calc>77 * 31</calc> = 2387\n",
            "----------------------------------------\n",
            "cats.\n",
            "They need <calc>2387 * 14</calc> = 33418\n",
            "----------------------------------------\n",
            "mittens.\n",
            "The mittens need <calc>33418 * 141</calc> = 4711938\n",
            "----------------------------------------\n",
            "m of yarn.\n",
            "They need <calc>2387 * 6</calc> = 14322\n",
            "----------------------------------------\n",
            "hats.\n",
            "The hats need <calc>14322 * 55</calc> = 787710\n",
            "----------------------------------------\n",
            "m of yarn.\n",
            " They need a total of <calc>4711938 + 787710</calc> = 5499648\n",
            "********************************************************************************\n",
            "Success!\n",
            "----------------------------------------\n",
            "There are <calc>77 * 31</calc> = 2387\n",
            "----------------------------------------\n",
            "cats.\n",
            "So for the mittens, we need <calc>2387 * 14</calc> = 33418\n",
            "----------------------------------------\n",
            "mittens.\n",
            "That means we need <calc>33418 * 141</calc> = 4711938\n",
            "----------------------------------------\n",
            "m of yarn for mittens.\n",
            "For the hats, we need <calc>2387 * 6</calc> = 14322\n",
            "----------------------------------------\n",
            "hats.\n",
            "That means we need <calc>14322 * 55</calc> = 787710\n",
            "----------------------------------------\n",
            "m of yarn for hats.\n",
            " In total we need <calc>787710 + 4711938</calc> = 5499648\n",
            "********************************************************************************\n",
            "Success!\n",
            "----------------------------------------\n",
            "In the 77 houses I have <calc>77 * 31</calc> = 2387\n",
            "----------------------------------------\n",
            "cats.\n",
            "They need <calc>2387 * 14</calc> = 33418\n",
            "----------------------------------------\n",
            "mittens.\n",
            "The mittens need <calc>33418 * 141</calc> = 4711938\n",
            "----------------------------------------\n",
            "m of yarn.\n",
            "They need <calc>2387 * 6</calc> = 14322\n",
            "----------------------------------------\n",
            "hats.\n",
            "The hats need <calc>14322 * 55</calc> = 787710\n",
            "----------------------------------------\n",
            "m of yarn.\n",
            " So, in total I need <calc>4711938 + 787710</calc> = 5499648\n",
            "********************************************************************************\n",
            "Success!\n",
            "----------------------------------------\n",
            "The number of cats is <calc>77 * 31</calc> = 2387\n",
            "----------------------------------------\n",
            ". Each cat needs <calc>14 * 141</calc> = 1974\n",
            "----------------------------------------\n",
            "m of yarn for mittens. So we need <calc>1974 * 2387</calc> = 4711938\n",
            "----------------------------------------\n",
            "m of yarn for mittens. Each cat needs <calc>6 * 55</calc> = 330\n",
            "----------------------------------------\n",
            "m of yarn for hats. So we need <calc>330 * 2387</calc> = 787710\n",
            "----------------------------------------\n",
            "m of yarn for hats. So in total we need <calc>4711938 + 787710</calc> = 5499648\n",
            "********************************************************************************\n",
            "Success!\n",
            "----------------------------------------\n",
            "There are <calc>77 * 31</calc> = 2387\n",
            "----------------------------------------\n",
            "cats.\n",
            "Each cat needs <calc>14 * 141</calc> = 1974\n",
            "----------------------------------------\n",
            "yarn for mittens.\n",
            "All cats need <calc>2387 * 1974</calc> = 4711938\n",
            "----------------------------------------\n",
            "yarn for mittens.\n",
            "Each cat needs <calc>6 * 55</calc> = 330\n",
            "----------------------------------------\n",
            "yarn for hats.\n",
            "All cats need <calc>2387 * 330</calc> = 787710\n",
            "----------------------------------------\n",
            "yarn for hats.\n",
            " All in all, you need <calc>4711938 + 787710</calc> = 5499648\n",
            "********************************************************************************\n",
            "Success!\n",
            "----------------------------------------\n",
            "There are <calc>77 * 31</calc> = 2387\n",
            "----------------------------------------\n",
            "cats.\n",
            "Each cat needs <calc>14 + 6</calc> = 20\n",
            "----------------------------------------\n",
            "items.\n",
            "So we need <calc>20 * 2387</calc> = 47740\n",
            "----------------------------------------\n",
            "items in total.\n",
            "Each mitten needs <calc>141</calc> = 141\n",
            "----------------------------------------\n",
            "m of yarn.\n",
            "So all the mittens need <calc>141 * 47740</calc> = 6731340\n",
            "----------------------------------------\n",
            "m of yarn.\n",
            " Each hat needs <calc>55</calc> = 55\n",
            "----------------------------------------\n",
            "m of yarn.\n",
            "So all the hats need <calc>55 * 47740</calc> = 2625700\n",
            "----------------------------------------\n",
            "m of yarn.\n",
            " In total, we need <calc>6731340 + 2625700</calc> = 9357040\n",
            "----------------------------------------\n",
            "m of yarn. There are <calc>77 * 31</calc> = 2387\n",
            "----------------------------------------\n",
            "cats.\n",
            "Each cat needs <calc>14 + 6</calc> = 20\n",
            "********************************************************************************\n",
            "Failure!\n",
            "----------------------------------------\n",
            "There are <calc>77 * 31</calc> = 2387\n",
            "----------------------------------------\n",
            "cats.\n",
            "There are <calc>2387 * 14</calc> = 33418\n",
            "----------------------------------------\n",
            "mittens.\n",
            "There are <calc>2387 * 6</calc> = 14322\n",
            "----------------------------------------\n",
            "hats.\n",
            "There was <calc>141 * 33418</calc> = 4711938\n",
            "----------------------------------------\n",
            "m of yarn needed for mittens.\n",
            "There was <calc>55 * 14322</calc> = 787710\n",
            "----------------------------------------\n",
            "m of yarn needed for hats.\n",
            " So there was <calc>4711938 + 787710</calc> = 5499648\n",
            "********************************************************************************\n",
            "Success!\n",
            "----------------------------------------\n",
            "There are <calc>77 * 31</calc> = 2387\n",
            "----------------------------------------\n",
            "cats in total. \n",
            "They need <calc>2387 * 14</calc> = 33418\n",
            "----------------------------------------\n",
            "mittens. \n",
            "That's <calc>33418 * 141</calc> = 4711938\n",
            "----------------------------------------\n",
            "meters of yarn for mittens. \n",
            "They need <calc>2387 * 6</calc> = 14322\n",
            "----------------------------------------\n",
            "hats. \n",
            "That's <calc>14322 * 55</calc> = 787710\n",
            "----------------------------------------\n",
            "meters of yarn for hats. \n",
            "So, they need <calc>4711938 + 787710</calc> = 5499648\n",
            "********************************************************************************\n",
            "Success!\n",
            "----------------------------------------\n",
            "There are 77 houses * 31 cats / house = <calc>77 * 31</calc> = 2387\n",
            "----------------------------------------\n",
            "cats.\n",
            "So we need <calc>2387 * 14</calc> = 33418\n",
            "----------------------------------------\n",
            "mittens.\n",
            "So we need <calc>33418 * 141</calc> = 4711938\n",
            "----------------------------------------\n",
            "m of yarn for mittens.\n",
            "So we need <calc>2387 * 6</calc> = 14322\n",
            "----------------------------------------\n",
            "hats.\n",
            " So we need <calc>14322 * 55</calc> = 787710\n",
            "----------------------------------------\n",
            "m of yarn for hats.\n",
            "In total, we need <calc>4711938 + 787710</calc> = 5499648\n",
            "********************************************************************************\n",
            "Success!\n",
            "----------------------------------------\n",
            "In total there are 77 houses * 31 cats / house = <calc>77 * 31</calc> = 2387\n",
            "----------------------------------------\n",
            "cats. In total 2387 cats * 14 mittens / cat = <calc>2387 * 14</calc> = 33418\n",
            "----------------------------------------\n",
            "mittens. In total 33418 mittens * 141m / mitten = <calc>33418 * 141</calc> = 4711938\n",
            "----------------------------------------\n",
            "m of yarn for mittens. In total 2387 cats * 6 hats / cat = <calc>2387 * 6</calc> = 14322\n",
            "----------------------------------------\n",
            "hats. In total 14322 hats * 55m / hat = <calc>14322 * 55</calc> = 787710\n",
            "----------------------------------------\n",
            "m of yarn for hats. In total we need 4711938 m of yarn for mittens + 787710 m of yarn for hats = <calc>4711938 + 787710</calc> = 5499648\n",
            "********************************************************************************\n",
            "Success!\n"
          ]
        }
      ],
      "source": [
        "good = []\n",
        "\n",
        "for n in range(10):\n",
        "  good.append(solve(question))"
      ]
    },
    {
      "cell_type": "code",
      "execution_count": 30,
      "metadata": {
        "id": "GoaPvoy-MjuN"
      },
      "outputs": [
        {
          "data": {
            "text/plain": [
              "0.9"
            ]
          },
          "execution_count": 30,
          "metadata": {},
          "output_type": "execute_result"
        }
      ],
      "source": [
        "import numpy as np\n",
        "np.mean(good)"
      ]
    }
  ],
  "metadata": {
    "colab": {
      "name": "text_calculator.ipynb",
      "toc_visible": true
    },
    "kernelspec": {
      "display_name": "Python 3",
      "name": "python3"
    }
  },
  "nbformat": 4,
  "nbformat_minor": 0
}
